{
 "cells": [
  {
   "cell_type": "code",
   "execution_count": 5,
   "id": "8dd23b6e",
   "metadata": {},
   "outputs": [],
   "source": [
    "import os\n",
    "from pathlib import Path\n",
    "os.chdir(Path(os.getcwd()).parent.parent.resolve())"
   ]
  },
  {
   "cell_type": "code",
   "execution_count": null,
   "id": "28071537",
   "metadata": {},
   "outputs": [],
   "source": [
    "from matplotlib import pyplot as plt\n",
    "import seaborn as sns\n",
    "\n",
    "from vinasmol.hfmodel import LUCIE\n",
    "from vinasmol.tokenization.language import (\n",
    "    token_language_classification,\n",
    "    classification_model_name,\n",
    ")"
   ]
  },
  {
   "cell_type": "code",
   "execution_count": 76,
   "id": "03306e11",
   "metadata": {},
   "outputs": [
    {
     "name": "stderr",
     "output_type": "stream",
     "text": [
      "Device set to use cuda:0\n"
     ]
    }
   ],
   "source": [
    "df = token_language_classification(LUCIE, batch_size=128)"
   ]
  },
  {
   "cell_type": "code",
   "execution_count": 92,
   "id": "f0c2cea3",
   "metadata": {},
   "outputs": [
    {
     "data": {
      "text/html": [
       "<div>\n",
       "<style scoped>\n",
       "    .dataframe tbody tr th:only-of-type {\n",
       "        vertical-align: middle;\n",
       "    }\n",
       "\n",
       "    .dataframe tbody tr th {\n",
       "        vertical-align: top;\n",
       "    }\n",
       "\n",
       "    .dataframe thead th {\n",
       "        text-align: right;\n",
       "    }\n",
       "</style>\n",
       "<table border=\"1\" class=\"dataframe\">\n",
       "  <thead>\n",
       "    <tr style=\"text-align: right;\">\n",
       "      <th></th>\n",
       "      <th>token</th>\n",
       "      <th>cleaned</th>\n",
       "      <th>token_id</th>\n",
       "      <th>lang</th>\n",
       "      <th>score</th>\n",
       "    </tr>\n",
       "  </thead>\n",
       "  <tbody>\n",
       "    <tr>\n",
       "      <th>0</th>\n",
       "      <td>valuate</td>\n",
       "      <td>valuate</td>\n",
       "      <td>52249</td>\n",
       "      <td>en-US</td>\n",
       "      <td>0.898486</td>\n",
       "    </tr>\n",
       "    <tr>\n",
       "      <th>1</th>\n",
       "      <td>▁Mey</td>\n",
       "      <td>Mey</td>\n",
       "      <td>23039</td>\n",
       "      <td>af-ZA</td>\n",
       "      <td>0.978905</td>\n",
       "    </tr>\n",
       "    <tr>\n",
       "      <th>2</th>\n",
       "      <td>ogra</td>\n",
       "      <td>ogra</td>\n",
       "      <td>4044</td>\n",
       "      <td>is-IS</td>\n",
       "      <td>0.997742</td>\n",
       "    </tr>\n",
       "    <tr>\n",
       "      <th>3</th>\n",
       "      <td>▁Bourgeois</td>\n",
       "      <td>Bourgeois</td>\n",
       "      <td>48623</td>\n",
       "      <td>fr-FR</td>\n",
       "      <td>0.999973</td>\n",
       "    </tr>\n",
       "    <tr>\n",
       "      <th>4</th>\n",
       "      <td>▁urg</td>\n",
       "      <td>urg</td>\n",
       "      <td>12651</td>\n",
       "      <td>ro-RO</td>\n",
       "      <td>0.361903</td>\n",
       "    </tr>\n",
       "    <tr>\n",
       "      <th>...</th>\n",
       "      <td>...</td>\n",
       "      <td>...</td>\n",
       "      <td>...</td>\n",
       "      <td>...</td>\n",
       "      <td>...</td>\n",
       "    </tr>\n",
       "    <tr>\n",
       "      <th>65012</th>\n",
       "      <td>ützen</td>\n",
       "      <td>ützen</td>\n",
       "      <td>23585</td>\n",
       "      <td>de-DE</td>\n",
       "      <td>0.999928</td>\n",
       "    </tr>\n",
       "    <tr>\n",
       "      <th>65013</th>\n",
       "      <td>push</td>\n",
       "      <td>push</td>\n",
       "      <td>9380</td>\n",
       "      <td>ms-MY</td>\n",
       "      <td>0.333694</td>\n",
       "    </tr>\n",
       "    <tr>\n",
       "      <th>65014</th>\n",
       "      <td>\",$</td>\n",
       "      <td>\",$</td>\n",
       "      <td>61218</td>\n",
       "      <td>km-KH</td>\n",
       "      <td>0.995100</td>\n",
       "    </tr>\n",
       "    <tr>\n",
       "      <th>65015</th>\n",
       "      <td>René</td>\n",
       "      <td>René</td>\n",
       "      <td>57283</td>\n",
       "      <td>fr-FR</td>\n",
       "      <td>0.980238</td>\n",
       "    </tr>\n",
       "    <tr>\n",
       "      <th>65016</th>\n",
       "      <td>▁Herr</td>\n",
       "      <td>Herr</td>\n",
       "      <td>6583</td>\n",
       "      <td>de-DE</td>\n",
       "      <td>0.999697</td>\n",
       "    </tr>\n",
       "  </tbody>\n",
       "</table>\n",
       "<p>65017 rows × 5 columns</p>\n",
       "</div>"
      ],
      "text/plain": [
       "            token    cleaned  token_id   lang     score\n",
       "0         valuate    valuate     52249  en-US  0.898486\n",
       "1            ▁Mey        Mey     23039  af-ZA  0.978905\n",
       "2            ogra       ogra      4044  is-IS  0.997742\n",
       "3      ▁Bourgeois  Bourgeois     48623  fr-FR  0.999973\n",
       "4            ▁urg        urg     12651  ro-RO  0.361903\n",
       "...           ...        ...       ...    ...       ...\n",
       "65012       ützen      ützen     23585  de-DE  0.999928\n",
       "65013        push       push      9380  ms-MY  0.333694\n",
       "65014         \",$        \",$     61218  km-KH  0.995100\n",
       "65015        René       René     57283  fr-FR  0.980238\n",
       "65016       ▁Herr       Herr      6583  de-DE  0.999697\n",
       "\n",
       "[65017 rows x 5 columns]"
      ]
     },
     "execution_count": 92,
     "metadata": {},
     "output_type": "execute_result"
    }
   ],
   "source": [
    "df"
   ]
  },
  {
   "cell_type": "code",
   "execution_count": 101,
   "id": "32744125",
   "metadata": {},
   "outputs": [],
   "source": [
    "threshold = 0.5\n",
    "other_cat = f'other (< {threshold})'"
   ]
  },
  {
   "cell_type": "code",
   "execution_count": null,
   "id": "18eca1f2",
   "metadata": {},
   "outputs": [],
   "source": [
    "confident_predictions = df[df['score'] > threshold]\n",
    "training_languages = ['fr-FR', 'en-US', 'de-DE', 'es-ES', 'it-IT']\n",
    "confident_predictions['lang'][~confident_predictions['lang'].isin(training_languages)] = other_cat"
   ]
  },
  {
   "cell_type": "code",
   "execution_count": 115,
   "id": "20120a4b",
   "metadata": {},
   "outputs": [
    {
     "data": {
      "text/html": [
       "<div>\n",
       "<style scoped>\n",
       "    .dataframe tbody tr th:only-of-type {\n",
       "        vertical-align: middle;\n",
       "    }\n",
       "\n",
       "    .dataframe tbody tr th {\n",
       "        vertical-align: top;\n",
       "    }\n",
       "\n",
       "    .dataframe thead th {\n",
       "        text-align: right;\n",
       "    }\n",
       "</style>\n",
       "<table border=\"1\" class=\"dataframe\">\n",
       "  <thead>\n",
       "    <tr style=\"text-align: right;\">\n",
       "      <th></th>\n",
       "      <th>lang</th>\n",
       "      <th>count</th>\n",
       "    </tr>\n",
       "  </thead>\n",
       "  <tbody>\n",
       "    <tr>\n",
       "      <th>0</th>\n",
       "      <td>other (&lt; 0.5)</td>\n",
       "      <td>23494</td>\n",
       "    </tr>\n",
       "    <tr>\n",
       "      <th>1</th>\n",
       "      <td>fr-FR</td>\n",
       "      <td>11899</td>\n",
       "    </tr>\n",
       "    <tr>\n",
       "      <th>2</th>\n",
       "      <td>en-US</td>\n",
       "      <td>8037</td>\n",
       "    </tr>\n",
       "    <tr>\n",
       "      <th>3</th>\n",
       "      <td>de-DE</td>\n",
       "      <td>3991</td>\n",
       "    </tr>\n",
       "    <tr>\n",
       "      <th>4</th>\n",
       "      <td>es-ES</td>\n",
       "      <td>2435</td>\n",
       "    </tr>\n",
       "    <tr>\n",
       "      <th>5</th>\n",
       "      <td>it-IT</td>\n",
       "      <td>1805</td>\n",
       "    </tr>\n",
       "  </tbody>\n",
       "</table>\n",
       "</div>"
      ],
      "text/plain": [
       "            lang  count\n",
       "0  other (< 0.5)  23494\n",
       "1          fr-FR  11899\n",
       "2          en-US   8037\n",
       "3          de-DE   3991\n",
       "4          es-ES   2435\n",
       "5          it-IT   1805"
      ]
     },
     "execution_count": 115,
     "metadata": {},
     "output_type": "execute_result"
    }
   ],
   "source": [
    "lang_counts = confident_predictions['lang'].value_counts().to_frame().reset_index()\n",
    "lang_counts"
   ]
  },
  {
   "cell_type": "code",
   "execution_count": 118,
   "id": "536990d6",
   "metadata": {},
   "outputs": [
    {
     "name": "stdout",
     "output_type": "stream",
     "text": [
      "Vocabulary size: 65017\n",
      "Tokens confidently classified (> 0.5): 51661\n",
      "Tokens confidently classified in training languages (> 0.5): 28167\n"
     ]
    }
   ],
   "source": [
    "num_confident = len(confident_predictions)\n",
    "num_other = lang_counts[lang_counts['lang'] == other_cat]['count'][0]\n",
    "print(f\"Vocabulary size: {len(df)}\")\n",
    "print(f\"Tokens confidently classified (> {threshold}): {num_confident}\")\n",
    "print(f\"Tokens confidently classified in training languages (> {threshold}): {num_confident - num_other}\")"
   ]
  },
  {
   "cell_type": "code",
   "execution_count": 119,
   "id": "0f5d7f51",
   "metadata": {},
   "outputs": [
    {
     "data": {
      "text/html": [
       "<div>\n",
       "<style scoped>\n",
       "    .dataframe tbody tr th:only-of-type {\n",
       "        vertical-align: middle;\n",
       "    }\n",
       "\n",
       "    .dataframe tbody tr th {\n",
       "        vertical-align: top;\n",
       "    }\n",
       "\n",
       "    .dataframe thead th {\n",
       "        text-align: right;\n",
       "    }\n",
       "</style>\n",
       "<table border=\"1\" class=\"dataframe\">\n",
       "  <thead>\n",
       "    <tr style=\"text-align: right;\">\n",
       "      <th></th>\n",
       "      <th>token</th>\n",
       "      <th>cleaned</th>\n",
       "      <th>token_id</th>\n",
       "      <th>lang</th>\n",
       "      <th>score</th>\n",
       "    </tr>\n",
       "  </thead>\n",
       "  <tbody>\n",
       "    <tr>\n",
       "      <th>1</th>\n",
       "      <td>▁Mey</td>\n",
       "      <td>Mey</td>\n",
       "      <td>23039</td>\n",
       "      <td>other (&lt; 0.5)</td>\n",
       "      <td>0.978905</td>\n",
       "    </tr>\n",
       "    <tr>\n",
       "      <th>2</th>\n",
       "      <td>ogra</td>\n",
       "      <td>ogra</td>\n",
       "      <td>4044</td>\n",
       "      <td>other (&lt; 0.5)</td>\n",
       "      <td>0.997742</td>\n",
       "    </tr>\n",
       "    <tr>\n",
       "      <th>6</th>\n",
       "      <td>▁Lamp</td>\n",
       "      <td>Lamp</td>\n",
       "      <td>21955</td>\n",
       "      <td>other (&lt; 0.5)</td>\n",
       "      <td>0.589951</td>\n",
       "    </tr>\n",
       "    <tr>\n",
       "      <th>11</th>\n",
       "      <td>▁dite</td>\n",
       "      <td>dite</td>\n",
       "      <td>14219</td>\n",
       "      <td>other (&lt; 0.5)</td>\n",
       "      <td>0.555196</td>\n",
       "    </tr>\n",
       "    <tr>\n",
       "      <th>12</th>\n",
       "      <td>=-</td>\n",
       "      <td>=-</td>\n",
       "      <td>25414</td>\n",
       "      <td>other (&lt; 0.5)</td>\n",
       "      <td>0.732356</td>\n",
       "    </tr>\n",
       "    <tr>\n",
       "      <th>...</th>\n",
       "      <td>...</td>\n",
       "      <td>...</td>\n",
       "      <td>...</td>\n",
       "      <td>...</td>\n",
       "      <td>...</td>\n",
       "    </tr>\n",
       "    <tr>\n",
       "      <th>65005</th>\n",
       "      <td>▁}));</td>\n",
       "      <td>}));</td>\n",
       "      <td>52904</td>\n",
       "      <td>other (&lt; 0.5)</td>\n",
       "      <td>0.907403</td>\n",
       "    </tr>\n",
       "    <tr>\n",
       "      <th>65007</th>\n",
       "      <td>tick</td>\n",
       "      <td>tick</td>\n",
       "      <td>15272</td>\n",
       "      <td>other (&lt; 0.5)</td>\n",
       "      <td>0.901303</td>\n",
       "    </tr>\n",
       "    <tr>\n",
       "      <th>65010</th>\n",
       "      <td>▁Vign</td>\n",
       "      <td>Vign</td>\n",
       "      <td>36111</td>\n",
       "      <td>other (&lt; 0.5)</td>\n",
       "      <td>0.999420</td>\n",
       "    </tr>\n",
       "    <tr>\n",
       "      <th>65011</th>\n",
       "      <td>orov</td>\n",
       "      <td>orov</td>\n",
       "      <td>52302</td>\n",
       "      <td>other (&lt; 0.5)</td>\n",
       "      <td>0.928896</td>\n",
       "    </tr>\n",
       "    <tr>\n",
       "      <th>65014</th>\n",
       "      <td>\",$</td>\n",
       "      <td>\",$</td>\n",
       "      <td>61218</td>\n",
       "      <td>other (&lt; 0.5)</td>\n",
       "      <td>0.995100</td>\n",
       "    </tr>\n",
       "  </tbody>\n",
       "</table>\n",
       "<p>23494 rows × 5 columns</p>\n",
       "</div>"
      ],
      "text/plain": [
       "       token cleaned  token_id           lang     score\n",
       "1       ▁Mey     Mey     23039  other (< 0.5)  0.978905\n",
       "2       ogra    ogra      4044  other (< 0.5)  0.997742\n",
       "6      ▁Lamp    Lamp     21955  other (< 0.5)  0.589951\n",
       "11     ▁dite    dite     14219  other (< 0.5)  0.555196\n",
       "12        =-      =-     25414  other (< 0.5)  0.732356\n",
       "...      ...     ...       ...            ...       ...\n",
       "65005  ▁}));    }));     52904  other (< 0.5)  0.907403\n",
       "65007   tick    tick     15272  other (< 0.5)  0.901303\n",
       "65010  ▁Vign    Vign     36111  other (< 0.5)  0.999420\n",
       "65011   orov    orov     52302  other (< 0.5)  0.928896\n",
       "65014    \",$     \",$     61218  other (< 0.5)  0.995100\n",
       "\n",
       "[23494 rows x 5 columns]"
      ]
     },
     "execution_count": 119,
     "metadata": {},
     "output_type": "execute_result"
    }
   ],
   "source": [
    "confident_predictions[confident_predictions['lang'] == other_cat]"
   ]
  },
  {
   "cell_type": "code",
   "execution_count": 120,
   "id": "243506ba",
   "metadata": {},
   "outputs": [
    {
     "data": {
      "text/plain": [
       "Text(0.5, 1.0, 'Token language distribution in Lucie')"
      ]
     },
     "execution_count": 120,
     "metadata": {},
     "output_type": "execute_result"
    },
    {
     "data": {
      "image/png": "[encoded data removed]",
      "text/plain": [
       "<Figure size 1200x800 with 1 Axes>"
      ]
     },
     "metadata": {},
     "output_type": "display_data"
    }
   ],
   "source": [
    "plt.figure(figsize=(12, 8))\n",
    "sns.barplot(confident_predictions['lang'].value_counts())\n",
    "plt.xlabel(f\"Language (predicted by {classification_model_name})\")\n",
    "plt.title(f\"Token language distribution in {LUCIE.friendly_name}\")"
   ]
  },
  {
   "cell_type": "code",
   "execution_count": 121,
   "id": "bef2a00c",
   "metadata": {},
   "outputs": [
    {
     "data": {
      "text/plain": [
       "Text(0.5, 1.0, 'Classifier score distribution')"
      ]
     },
     "execution_count": 121,
     "metadata": {},
     "output_type": "execute_result"
    },
    {
     "data": {
      "image/png": "[encoded data removed]",
      "text/plain": [
       "<Figure size 640x480 with 1 Axes>"
      ]
     },
     "metadata": {},
     "output_type": "display_data"
    }
   ],
   "source": [
    "sns.histplot(df, x='score')\n",
    "plt.title(\"Classifier score distribution\")"
   ]
  }
 ],
 "metadata": {
  "kernelspec": {
   "display_name": ".venv",
   "language": "python",
   "name": "python3"
  },
  "language_info": {
   "codemirror_mode": {
    "name": "ipython",
    "version": 3
   },
   "file_extension": ".py",
   "mimetype": "text/x-python",
   "name": "python",
   "nbconvert_exporter": "python",
   "pygments_lexer": "ipython3",
   "version": "3.12.9"
  }
 },
 "nbformat": 4,
 "nbformat_minor": 5
}
