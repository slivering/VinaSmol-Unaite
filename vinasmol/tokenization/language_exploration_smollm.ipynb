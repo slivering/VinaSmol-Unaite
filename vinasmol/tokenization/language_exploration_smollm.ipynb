{
 "cells": [
  {
   "cell_type": "code",
   "execution_count": null,
   "id": "8dd23b6e",
   "metadata": {},
   "outputs": [],
   "source": [
    "import os\n",
    "from pathlib import Path\n",
    "os.chdir(Path(os.getcwd()).parent.parent.resolve())"
   ]
  },
  {
   "cell_type": "code",
   "execution_count": null,
   "id": "28071537",
   "metadata": {},
   "outputs": [],
   "source": [
    "from matplotlib import pyplot as plt\n",
    "import seaborn as sns\n",
    "\n",
    "from vinasmol.hfmodel import SMOLLM2\n",
    "from vinasmol.tokenization.language import (\n",
    "    token_language_classification,\n",
    "    classification_model_name,\n",
    ")"
   ]
  },
  {
   "cell_type": "code",
   "execution_count": null,
   "id": "03306e11",
   "metadata": {},
   "outputs": [],
   "source": [
    "df = token_language_classification(SMOLLM2, batch_size=128)"
   ]
  },
  {
   "cell_type": "code",
   "execution_count": null,
   "id": "f0c2cea3",
   "metadata": {},
   "outputs": [],
   "source": [
    "df"
   ]
  },
  {
   "cell_type": "code",
   "execution_count": null,
   "id": "32744125",
   "metadata": {},
   "outputs": [],
   "source": [
    "threshold = 0.5\n",
    "other_cat = f'other (< {threshold})'"
   ]
  },
  {
   "cell_type": "code",
   "execution_count": null,
   "id": "18eca1f2",
   "metadata": {},
   "outputs": [],
   "source": [
    "confident_predictions = df[df['score'] > threshold]\n",
    "training_languages = ['en-US']\n",
    "confident_predictions['lang'][~confident_predictions['lang'].isin(training_languages)] = other_cat"
   ]
  },
  {
   "cell_type": "code",
   "execution_count": null,
   "id": "20120a4b",
   "metadata": {},
   "outputs": [],
   "source": [
    "lang_counts = confident_predictions['lang'].value_counts().to_frame().reset_index()\n",
    "lang_counts"
   ]
  },
  {
   "cell_type": "code",
   "execution_count": null,
   "id": "536990d6",
   "metadata": {},
   "outputs": [],
   "source": [
    "num_confident = len(confident_predictions)\n",
    "num_other = lang_counts[lang_counts['lang'] == other_cat]['count'][0]\n",
    "print(f\"Vocabulary size: {len(df)}\")\n",
    "print(f\"Tokens confidently classified (> {threshold}): {num_confident}\")\n",
    "print(f\"Tokens confidently classified in training languages (> {threshold}): {num_confident - num_other}\")"
   ]
  },
  {
   "cell_type": "code",
   "execution_count": null,
   "id": "0f5d7f51",
   "metadata": {},
   "outputs": [],
   "source": [
    "confident_predictions[confident_predictions['lang'] == other_cat]"
   ]
  },
  {
   "cell_type": "code",
   "execution_count": null,
   "id": "243506ba",
   "metadata": {},
   "outputs": [],
   "source": [
    "plt.figure(figsize=(12, 8))\n",
    "sns.barplot(confident_predictions['lang'].value_counts())\n",
    "plt.xlabel(f\"Language (predicted by {classification_model_name})\")\n",
    "plt.title(f\"Token language distribution in {SMOLLM2.friendly_name}\")"
   ]
  },
  {
   "cell_type": "code",
   "execution_count": null,
   "id": "bef2a00c",
   "metadata": {},
   "outputs": [],
   "source": [
    "sns.histplot(df, x='score')\n",
    "plt.title(\"Classifier score distribution\")"
   ]
  }
 ],
 "metadata": {
  "kernelspec": {
   "display_name": ".venv",
   "language": "python",
   "name": "python3"
  },
  "language_info": {
   "codemirror_mode": {
    "name": "ipython",
    "version": 3
   },
   "file_extension": ".py",
   "mimetype": "text/x-python",
   "name": "python",
   "nbconvert_exporter": "python",
   "pygments_lexer": "ipython3",
   "version": "3.12.9"
  }
 },
 "nbformat": 4,
 "nbformat_minor": 5
}
