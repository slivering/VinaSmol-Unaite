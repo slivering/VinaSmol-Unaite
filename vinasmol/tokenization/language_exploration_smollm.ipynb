{
 "cells": [
  {
   "cell_type": "code",
   "execution_count": 1,
   "id": "8dd23b6e",
   "metadata": {},
   "outputs": [],
   "source": [
    "import os\n",
    "from pathlib import Path\n",
    "os.chdir(Path(os.getcwd()).parent.parent.resolve())"
   ]
  },
  {
   "cell_type": "code",
   "execution_count": 2,
   "id": "28071537",
   "metadata": {},
   "outputs": [
    {
     "data": {
      "application/vnd.jupyter.widget-view+json": {
       "model_id": "a2860b901a1c4f61b8a36170dcb2c5d0",
       "version_major": 2,
       "version_minor": 0
      },
      "text/plain": [
       "tokenizer_config.json:   0%|          | 0.00/398 [00:00<?, ?B/s]"
      ]
     },
     "metadata": {},
     "output_type": "display_data"
    },
    {
     "data": {
      "application/vnd.jupyter.widget-view+json": {
       "model_id": "fcc610b55f6845118f3d8f170faefe1e",
       "version_major": 2,
       "version_minor": 0
      },
      "text/plain": [
       "sentencepiece.bpe.model:   0%|          | 0.00/5.07M [00:00<?, ?B/s]"
      ]
     },
     "metadata": {},
     "output_type": "display_data"
    },
    {
     "data": {
      "application/vnd.jupyter.widget-view+json": {
       "model_id": "14708eb2002d41e1ba036f07eaeb8ac4",
       "version_major": 2,
       "version_minor": 0
      },
      "text/plain": [
       "tokenizer.json:   0%|          | 0.00/17.1M [00:00<?, ?B/s]"
      ]
     },
     "metadata": {},
     "output_type": "display_data"
    },
    {
     "data": {
      "application/vnd.jupyter.widget-view+json": {
       "model_id": "f311b8cb5d5b4637b1a571fbde2e09bc",
       "version_major": 2,
       "version_minor": 0
      },
      "text/plain": [
       "special_tokens_map.json:   0%|          | 0.00/239 [00:00<?, ?B/s]"
      ]
     },
     "metadata": {},
     "output_type": "display_data"
    },
    {
     "data": {
      "application/vnd.jupyter.widget-view+json": {
       "model_id": "a9c29afe04d842b8a4c4cee279973252",
       "version_major": 2,
       "version_minor": 0
      },
      "text/plain": [
       "config.json:   0%|          | 0.00/2.63k [00:00<?, ?B/s]"
      ]
     },
     "metadata": {},
     "output_type": "display_data"
    },
    {
     "data": {
      "application/vnd.jupyter.widget-view+json": {
       "model_id": "6b29f01676694c2aa42be8dc6f095d71",
       "version_major": 2,
       "version_minor": 0
      },
      "text/plain": [
       "pytorch_model.bin:   0%|          | 0.00/1.11G [00:00<?, ?B/s]"
      ]
     },
     "metadata": {},
     "output_type": "display_data"
    }
   ],
   "source": [
    "from matplotlib import pyplot as plt\n",
    "import seaborn as sns\n",
    "\n",
    "from vinasmol.hfmodel import SMOLLM2\n",
    "from vinasmol.tokenization.language import (\n",
    "    token_language_classification,\n",
    "    classification_model_name,\n",
    ")"
   ]
  },
  {
   "cell_type": "code",
   "execution_count": 4,
   "id": "03306e11",
   "metadata": {},
   "outputs": [
    {
     "name": "stderr",
     "output_type": "stream",
     "text": [
      "Device set to use cuda:0\n"
     ]
    }
   ],
   "source": [
    "df = token_language_classification(SMOLLM2, batch_size=128)"
   ]
  },
  {
   "cell_type": "code",
   "execution_count": 5,
   "id": "f0c2cea3",
   "metadata": {},
   "outputs": [
    {
     "data": {
      "text/html": [
       "<div>\n",
       "<style scoped>\n",
       "    .dataframe tbody tr th:only-of-type {\n",
       "        vertical-align: middle;\n",
       "    }\n",
       "\n",
       "    .dataframe tbody tr th {\n",
       "        vertical-align: top;\n",
       "    }\n",
       "\n",
       "    .dataframe thead th {\n",
       "        text-align: right;\n",
       "    }\n",
       "</style>\n",
       "<table border=\"1\" class=\"dataframe\">\n",
       "  <thead>\n",
       "    <tr style=\"text-align: right;\">\n",
       "      <th></th>\n",
       "      <th>token</th>\n",
       "      <th>cleaned</th>\n",
       "      <th>token_id</th>\n",
       "      <th>lang</th>\n",
       "      <th>score</th>\n",
       "    </tr>\n",
       "  </thead>\n",
       "  <tbody>\n",
       "    <tr>\n",
       "      <th>0</th>\n",
       "      <td>ĠPrice</td>\n",
       "      <td>Price</td>\n",
       "      <td>17073</td>\n",
       "      <td>en-US</td>\n",
       "      <td>0.999723</td>\n",
       "    </tr>\n",
       "    <tr>\n",
       "      <th>1</th>\n",
       "      <td>Ġdancing</td>\n",
       "      <td>dancing</td>\n",
       "      <td>14452</td>\n",
       "      <td>en-US</td>\n",
       "      <td>0.613255</td>\n",
       "    </tr>\n",
       "    <tr>\n",
       "      <th>2</th>\n",
       "      <td>Ġdoorway</td>\n",
       "      <td>doorway</td>\n",
       "      <td>41644</td>\n",
       "      <td>ar-SA</td>\n",
       "      <td>0.467378</td>\n",
       "    </tr>\n",
       "    <tr>\n",
       "      <th>3</th>\n",
       "      <td>Ġrad</td>\n",
       "      <td>rad</td>\n",
       "      <td>1961</td>\n",
       "      <td>sl-SL</td>\n",
       "      <td>0.701456</td>\n",
       "    </tr>\n",
       "    <tr>\n",
       "      <th>4</th>\n",
       "      <td>Cho</td>\n",
       "      <td>Cho</td>\n",
       "      <td>29943</td>\n",
       "      <td>vi-VN</td>\n",
       "      <td>0.990256</td>\n",
       "    </tr>\n",
       "    <tr>\n",
       "      <th>...</th>\n",
       "      <td>...</td>\n",
       "      <td>...</td>\n",
       "      <td>...</td>\n",
       "      <td>...</td>\n",
       "      <td>...</td>\n",
       "    </tr>\n",
       "    <tr>\n",
       "      <th>49144</th>\n",
       "      <td>Ġarter</td>\n",
       "      <td>arter</td>\n",
       "      <td>11311</td>\n",
       "      <td>nb-NO</td>\n",
       "      <td>0.367269</td>\n",
       "    </tr>\n",
       "    <tr>\n",
       "      <th>49145</th>\n",
       "      <td>ĠEvaluating</td>\n",
       "      <td>Evaluating</td>\n",
       "      <td>32709</td>\n",
       "      <td>en-US</td>\n",
       "      <td>0.999894</td>\n",
       "    </tr>\n",
       "    <tr>\n",
       "      <th>49146</th>\n",
       "      <td>Ġacquaintance</td>\n",
       "      <td>acquaintance</td>\n",
       "      <td>41141</td>\n",
       "      <td>it-IT</td>\n",
       "      <td>0.999879</td>\n",
       "    </tr>\n",
       "    <tr>\n",
       "      <th>49147</th>\n",
       "      <td>ennial</td>\n",
       "      <td>ennial</td>\n",
       "      <td>19963</td>\n",
       "      <td>af-ZA</td>\n",
       "      <td>0.309494</td>\n",
       "    </tr>\n",
       "    <tr>\n",
       "      <th>49148</th>\n",
       "      <td>Ġchemist</td>\n",
       "      <td>chemist</td>\n",
       "      <td>27319</td>\n",
       "      <td>ms-MY</td>\n",
       "      <td>0.477373</td>\n",
       "    </tr>\n",
       "  </tbody>\n",
       "</table>\n",
       "<p>49149 rows × 5 columns</p>\n",
       "</div>"
      ],
      "text/plain": [
       "               token        cleaned  token_id   lang     score\n",
       "0             ĠPrice          Price     17073  en-US  0.999723\n",
       "1           Ġdancing        dancing     14452  en-US  0.613255\n",
       "2           Ġdoorway        doorway     41644  ar-SA  0.467378\n",
       "3               Ġrad            rad      1961  sl-SL  0.701456\n",
       "4                Cho            Cho     29943  vi-VN  0.990256\n",
       "...              ...            ...       ...    ...       ...\n",
       "49144         Ġarter          arter     11311  nb-NO  0.367269\n",
       "49145    ĠEvaluating     Evaluating     32709  en-US  0.999894\n",
       "49146  Ġacquaintance   acquaintance     41141  it-IT  0.999879\n",
       "49147         ennial         ennial     19963  af-ZA  0.309494\n",
       "49148       Ġchemist        chemist     27319  ms-MY  0.477373\n",
       "\n",
       "[49149 rows x 5 columns]"
      ]
     },
     "execution_count": 5,
     "metadata": {},
     "output_type": "execute_result"
    }
   ],
   "source": [
    "df"
   ]
  },
  {
   "cell_type": "code",
   "execution_count": 6,
   "id": "32744125",
   "metadata": {},
   "outputs": [],
   "source": [
    "threshold = 0.5\n",
    "other_cat = f'other (< {threshold})'"
   ]
  },
  {
   "cell_type": "code",
   "execution_count": 13,
   "id": "18eca1f2",
   "metadata": {},
   "outputs": [],
   "source": [
    "confident_predictions = df[df['score'] > threshold]\n",
    "training_languages = ['en-US']\n",
    "confident_predictions.loc[~confident_predictions['lang'].isin(training_languages), 'lang'] = other_cat"
   ]
  },
  {
   "cell_type": "code",
   "execution_count": 14,
   "id": "20120a4b",
   "metadata": {},
   "outputs": [
    {
     "data": {
      "text/html": [
       "<div>\n",
       "<style scoped>\n",
       "    .dataframe tbody tr th:only-of-type {\n",
       "        vertical-align: middle;\n",
       "    }\n",
       "\n",
       "    .dataframe tbody tr th {\n",
       "        vertical-align: top;\n",
       "    }\n",
       "\n",
       "    .dataframe thead th {\n",
       "        text-align: right;\n",
       "    }\n",
       "</style>\n",
       "<table border=\"1\" class=\"dataframe\">\n",
       "  <thead>\n",
       "    <tr style=\"text-align: right;\">\n",
       "      <th></th>\n",
       "      <th>lang</th>\n",
       "      <th>count</th>\n",
       "    </tr>\n",
       "  </thead>\n",
       "  <tbody>\n",
       "    <tr>\n",
       "      <th>0</th>\n",
       "      <td>other (&lt; 0.5)</td>\n",
       "      <td>22327</td>\n",
       "    </tr>\n",
       "    <tr>\n",
       "      <th>1</th>\n",
       "      <td>en-US</td>\n",
       "      <td>14293</td>\n",
       "    </tr>\n",
       "  </tbody>\n",
       "</table>\n",
       "</div>"
      ],
      "text/plain": [
       "            lang  count\n",
       "0  other (< 0.5)  22327\n",
       "1          en-US  14293"
      ]
     },
     "execution_count": 14,
     "metadata": {},
     "output_type": "execute_result"
    }
   ],
   "source": [
    "lang_counts = confident_predictions['lang'].value_counts().to_frame().reset_index()\n",
    "lang_counts"
   ]
  },
  {
   "cell_type": "code",
   "execution_count": 15,
   "id": "536990d6",
   "metadata": {},
   "outputs": [
    {
     "name": "stdout",
     "output_type": "stream",
     "text": [
      "Vocabulary size: 49149\n",
      "Tokens confidently classified (> 0.5): 36620\n",
      "Tokens confidently classified in training languages (> 0.5): 14293\n"
     ]
    }
   ],
   "source": [
    "num_confident = len(confident_predictions)\n",
    "num_other = lang_counts[lang_counts['lang'] == other_cat]['count'][0]\n",
    "print(f\"Vocabulary size: {len(df)}\")\n",
    "print(f\"Tokens confidently classified (> {threshold}): {num_confident}\")\n",
    "print(f\"Tokens confidently classified in training languages (> {threshold}): {num_confident - num_other}\")"
   ]
  },
  {
   "cell_type": "code",
   "execution_count": 16,
   "id": "0f5d7f51",
   "metadata": {},
   "outputs": [
    {
     "data": {
      "text/html": [
       "<div>\n",
       "<style scoped>\n",
       "    .dataframe tbody tr th:only-of-type {\n",
       "        vertical-align: middle;\n",
       "    }\n",
       "\n",
       "    .dataframe tbody tr th {\n",
       "        vertical-align: top;\n",
       "    }\n",
       "\n",
       "    .dataframe thead th {\n",
       "        text-align: right;\n",
       "    }\n",
       "</style>\n",
       "<table border=\"1\" class=\"dataframe\">\n",
       "  <thead>\n",
       "    <tr style=\"text-align: right;\">\n",
       "      <th></th>\n",
       "      <th>token</th>\n",
       "      <th>cleaned</th>\n",
       "      <th>token_id</th>\n",
       "      <th>lang</th>\n",
       "      <th>score</th>\n",
       "    </tr>\n",
       "  </thead>\n",
       "  <tbody>\n",
       "    <tr>\n",
       "      <th>3</th>\n",
       "      <td>Ġrad</td>\n",
       "      <td>rad</td>\n",
       "      <td>1961</td>\n",
       "      <td>other (&lt; 0.5)</td>\n",
       "      <td>0.701456</td>\n",
       "    </tr>\n",
       "    <tr>\n",
       "      <th>4</th>\n",
       "      <td>Cho</td>\n",
       "      <td>Cho</td>\n",
       "      <td>29943</td>\n",
       "      <td>other (&lt; 0.5)</td>\n",
       "      <td>0.990256</td>\n",
       "    </tr>\n",
       "    <tr>\n",
       "      <th>10</th>\n",
       "      <td>Ġfolly</td>\n",
       "      <td>folly</td>\n",
       "      <td>48275</td>\n",
       "      <td>other (&lt; 0.5)</td>\n",
       "      <td>0.821337</td>\n",
       "    </tr>\n",
       "    <tr>\n",
       "      <th>12</th>\n",
       "      <td>Ġpropeller</td>\n",
       "      <td>propeller</td>\n",
       "      <td>38843</td>\n",
       "      <td>other (&lt; 0.5)</td>\n",
       "      <td>0.926065</td>\n",
       "    </tr>\n",
       "    <tr>\n",
       "      <th>13</th>\n",
       "      <td>ĠBoot</td>\n",
       "      <td>Boot</td>\n",
       "      <td>36747</td>\n",
       "      <td>other (&lt; 0.5)</td>\n",
       "      <td>0.732877</td>\n",
       "    </tr>\n",
       "    <tr>\n",
       "      <th>...</th>\n",
       "      <td>...</td>\n",
       "      <td>...</td>\n",
       "      <td>...</td>\n",
       "      <td>...</td>\n",
       "      <td>...</td>\n",
       "    </tr>\n",
       "    <tr>\n",
       "      <th>49137</th>\n",
       "      <td>Ġeffluent</td>\n",
       "      <td>effluent</td>\n",
       "      <td>41474</td>\n",
       "      <td>other (&lt; 0.5)</td>\n",
       "      <td>0.933620</td>\n",
       "    </tr>\n",
       "    <tr>\n",
       "      <th>49139</th>\n",
       "      <td>Ġmirror</td>\n",
       "      <td>mirror</td>\n",
       "      <td>11558</td>\n",
       "      <td>other (&lt; 0.5)</td>\n",
       "      <td>0.541811</td>\n",
       "    </tr>\n",
       "    <tr>\n",
       "      <th>49141</th>\n",
       "      <td>ocard</td>\n",
       "      <td>ocard</td>\n",
       "      <td>23661</td>\n",
       "      <td>other (&lt; 0.5)</td>\n",
       "      <td>0.511004</td>\n",
       "    </tr>\n",
       "    <tr>\n",
       "      <th>49143</th>\n",
       "      <td>Ġfixation</td>\n",
       "      <td>fixation</td>\n",
       "      <td>32784</td>\n",
       "      <td>other (&lt; 0.5)</td>\n",
       "      <td>0.969489</td>\n",
       "    </tr>\n",
       "    <tr>\n",
       "      <th>49146</th>\n",
       "      <td>Ġacquaintance</td>\n",
       "      <td>acquaintance</td>\n",
       "      <td>41141</td>\n",
       "      <td>other (&lt; 0.5)</td>\n",
       "      <td>0.999879</td>\n",
       "    </tr>\n",
       "  </tbody>\n",
       "</table>\n",
       "<p>22327 rows × 5 columns</p>\n",
       "</div>"
      ],
      "text/plain": [
       "               token        cleaned  token_id           lang     score\n",
       "3               Ġrad            rad      1961  other (< 0.5)  0.701456\n",
       "4                Cho            Cho     29943  other (< 0.5)  0.990256\n",
       "10            Ġfolly          folly     48275  other (< 0.5)  0.821337\n",
       "12        Ġpropeller      propeller     38843  other (< 0.5)  0.926065\n",
       "13             ĠBoot           Boot     36747  other (< 0.5)  0.732877\n",
       "...              ...            ...       ...            ...       ...\n",
       "49137      Ġeffluent       effluent     41474  other (< 0.5)  0.933620\n",
       "49139        Ġmirror         mirror     11558  other (< 0.5)  0.541811\n",
       "49141          ocard          ocard     23661  other (< 0.5)  0.511004\n",
       "49143      Ġfixation       fixation     32784  other (< 0.5)  0.969489\n",
       "49146  Ġacquaintance   acquaintance     41141  other (< 0.5)  0.999879\n",
       "\n",
       "[22327 rows x 5 columns]"
      ]
     },
     "execution_count": 16,
     "metadata": {},
     "output_type": "execute_result"
    }
   ],
   "source": [
    "confident_predictions[confident_predictions['lang'] == other_cat]"
   ]
  },
  {
   "cell_type": "code",
   "execution_count": 17,
   "id": "243506ba",
   "metadata": {},
   "outputs": [
    {
     "data": {
      "text/plain": [
       "Text(0.5, 1.0, 'Token language distribution in SmolLM2')"
      ]
     },
     "execution_count": 17,
     "metadata": {},
     "output_type": "execute_result"
    },
    {
     "data": {
      "image/png": "[encoded data removed]",
      "text/plain": [
       "<Figure size 1200x800 with 1 Axes>"
      ]
     },
     "metadata": {},
     "output_type": "display_data"
    }
   ],
   "source": [
    "plt.figure(figsize=(12, 8))\n",
    "sns.barplot(confident_predictions['lang'].value_counts())\n",
    "plt.xlabel(f\"Language (predicted by {classification_model_name})\")\n",
    "plt.title(f\"Token language distribution in {SMOLLM2.friendly_name}\")"
   ]
  },
  {
   "cell_type": "code",
   "execution_count": 12,
   "id": "bef2a00c",
   "metadata": {},
   "outputs": [
    {
     "data": {
      "text/plain": [
       "Text(0.5, 1.0, 'Classifier score distribution')"
      ]
     },
     "execution_count": 12,
     "metadata": {},
     "output_type": "execute_result"
    },
    {
     "data": {
      "image/png": "[encoded data removed]",
      "text/plain": [
       "<Figure size 640x480 with 1 Axes>"
      ]
     },
     "metadata": {},
     "output_type": "display_data"
    }
   ],
   "source": [
    "sns.histplot(df, x='score')\n",
    "plt.title(\"Classifier score distribution\")"
   ]
  },
  {
   "cell_type": "code",
   "execution_count": 3,
   "id": "ae6658e5",
   "metadata": {},
   "outputs": [
    {
     "name": "stdout",
     "output_type": "stream",
     "text": [
      "['X', 'in', ' ch', 'à', 'o', ',', ' b', '�', '�', 'n', ' t', 'ê', 'n', ' l', 'à', ' g', 'ì', '?']\n"
     ]
    }
   ],
   "source": [
    "tokenizer = SMOLLM2.load_tokenizer()\n",
    "tokens = tokenizer.encode(\"Xin chào, bạn tên là gì?\")\n",
    "print([tokenizer.decode(token) for token in tokens])"
   ]
  },
  {
   "cell_type": "code",
   "execution_count": null,
   "id": "91995c96",
   "metadata": {},
   "outputs": [],
   "source": []
  }
 ],
 "metadata": {
  "kernelspec": {
   "display_name": ".venv",
   "language": "python",
   "name": "python3"
  },
  "language_info": {
   "codemirror_mode": {
    "name": "ipython",
    "version": 3
   },
   "file_extension": ".py",
   "mimetype": "text/x-python",
   "name": "python",
   "nbconvert_exporter": "python",
   "pygments_lexer": "ipython3",
   "version": "3.12.9"
  }
 },
 "nbformat": 4,
 "nbformat_minor": 5
}
